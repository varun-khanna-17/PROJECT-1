{
 "cells": [
  {
   "attachments": {},
   "cell_type": "markdown",
   "metadata": {},
   "source": [
    "## Content\n",
    "\n",
    "1. [Project 1 - Image Classification](./Image_Classification.html)"
   ]
  }
 ],
 "metadata": {
  "kernelspec": {
   "display_name": "Python 3",
   "language": "python",
   "name": "python3"
  },
  "language_info": {
   "name": "python",
   "version": "3.10.7"
  },
  "orig_nbformat": 4,
  "vscode": {
   "interpreter": {
    "hash": "41a78647ac57d79547f705e41317534c8ae76846bdbd5970b430cb0dfaf6408f"
   }
  }
 },
 "nbformat": 4,
 "nbformat_minor": 2
}
